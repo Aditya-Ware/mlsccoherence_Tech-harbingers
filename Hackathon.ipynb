{
  "nbformat": 4,
  "nbformat_minor": 0,
  "metadata": {
    "colab": {
      "provenance": [],
      "authorship_tag": "ABX9TyPDY8of5L2lgu1atYXd8TpE",
      "include_colab_link": true
    },
    "kernelspec": {
      "name": "python3",
      "display_name": "Python 3"
    },
    "language_info": {
      "name": "python"
    }
  },
  "cells": [
    {
      "cell_type": "markdown",
      "metadata": {
        "id": "view-in-github",
        "colab_type": "text"
      },
      "source": [
        "<a href=\"https://colab.research.google.com/github/Aditya-Ware/mlsccoherence_Tech-harbingers/blob/main/Hackathon.ipynb\" target=\"_parent\"><img src=\"https://colab.research.google.com/assets/colab-badge.svg\" alt=\"Open In Colab\"/></a>"
      ]
    },
    {
      "cell_type": "code",
      "execution_count": null,
      "metadata": {
        "id": "Gv7Byz0D9F1o"
      },
      "outputs": [],
      "source": [
        "!pip install transformers"
      ]
    },
    {
      "cell_type": "code",
      "source": [
        "!pip install tensorflow"
      ],
      "metadata": {
        "id": "8lVRUBMj_TuH"
      },
      "execution_count": null,
      "outputs": []
    },
    {
      "cell_type": "code",
      "source": [
        "!pip install nltk"
      ],
      "metadata": {
        "id": "Kg2tlNEuMWyu"
      },
      "execution_count": null,
      "outputs": []
    },
    {
      "cell_type": "code",
      "source": [
        "import os\n",
        "import re\n",
        "import nltk\n",
        "from nltk.tokenize import word_tokenize\n",
        "from nltk.corpus import stopwords\n",
        "import string"
      ],
      "metadata": {
        "id": "suBpigCrAbs3"
      },
      "execution_count": 41,
      "outputs": []
    },
    {
      "cell_type": "code",
      "source": [
        "def fetch_txt(path):\n",
        "    file = open(path, \"r\", encoding='utf-8')\n",
        "    text = file.read()\n",
        "    return text\n",
        "#testing\n",
        "text = fetch_txt(\"/content/New Text Document.txt\")"
      ],
      "metadata": {
        "id": "AePdnzUwD7yU"
      },
      "execution_count": 42,
      "outputs": []
    },
    {
      "cell_type": "code",
      "source": [
        "nltk.download('punkt')\n",
        "nltk.download('stopwords')"
      ],
      "metadata": {
        "colab": {
          "base_uri": "https://localhost:8080/"
        },
        "id": "NVWRWtKvMqHo",
        "outputId": "26da6c80-e8f9-44d1-e3ae-59932841fb50"
      },
      "execution_count": 43,
      "outputs": [
        {
          "output_type": "stream",
          "name": "stderr",
          "text": [
            "[nltk_data] Downloading package punkt to /root/nltk_data...\n",
            "[nltk_data]   Package punkt is already up-to-date!\n",
            "[nltk_data] Downloading package stopwords to /root/nltk_data...\n",
            "[nltk_data]   Package stopwords is already up-to-date!\n"
          ]
        },
        {
          "output_type": "execute_result",
          "data": {
            "text/plain": [
              "True"
            ]
          },
          "metadata": {},
          "execution_count": 43
        }
      ]
    },
    {
      "cell_type": "code",
      "source": [
        "new_tokens = []\n",
        "def preprocessing(text):\n",
        "    text = text.encode('ascii', 'ignore').decode(\"utf-8\")\n",
        "    text = text.lower()\n",
        "    tokens = word_tokenize(text)\n",
        "    stop_words = set(stopwords.words('english'))\n",
        "    punctuation = set(string.punctuation)\n",
        "    for token in tokens:\n",
        "      if token not in stop_words and token not in punctuation:\n",
        "        new_tokens.append(token)\n",
        "        #return ' '.join(new_tokens)\n",
        "\n",
        "\n",
        "    print(text)\n",
        "    print(tokens)\n",
        "    print(stop_words)\n",
        "    print(punctuation)\n",
        "    print(new_tokens)\n",
        "\n",
        "preprocessing(text)\n"
      ],
      "metadata": {
        "colab": {
          "base_uri": "https://localhost:8080/"
        },
        "id": "Km9ITcJTE-5Q",
        "outputId": "37ab11ab-aef1-4753-916a-1cfbf3bd5161"
      },
      "execution_count": 49,
      "outputs": [
        {
          "output_type": "stream",
          "name": "stdout",
          "text": [
            "hello how are you all\n",
            "['hello', 'how', 'are', 'you', 'all']\n",
            "{'did', \"don't\", 'with', 'o', 'whom', 'wasn', \"you'd\", \"weren't\", 'off', 't', 'couldn', 'can', 'these', 'by', 'has', 'down', 'wouldn', 'myself', 'if', 'all', 'doesn', 'how', 'as', 'hasn', 'didn', 'doing', 'what', 'will', 'both', 'ain', 'having', 'of', 'their', 'y', 'themselves', 'do', 'your', 'now', 'hers', 'won', 'nor', 'out', 'his', 'about', 'hadn', 'each', 'here', 'under', 'above', 'needn', 'itself', 'who', \"mustn't\", 'aren', \"you'll\", 'the', 'on', 'own', 'where', 'don', 'just', 'yours', 'they', 'weren', 'not', 'i', 'same', 'himself', \"it's\", 'other', \"that'll\", 'and', \"mightn't\", 'theirs', 'haven', 'once', 'being', 'mustn', 're', 'a', 'because', 'too', 's', 'before', 'below', 'am', 'such', \"she's\", 'was', 'until', \"hadn't\", 'from', \"haven't\", 'ours', 'does', 'few', \"isn't\", \"needn't\", 'during', 'this', \"you're\", 'very', 'over', 'more', 'which', 'at', 'our', 'we', 'ma', 'be', 'into', 'is', 'only', 'll', 'yourselves', \"won't\", \"wouldn't\", \"couldn't\", 'why', 'some', 'those', 'after', 'while', 'are', 'in', 'than', \"shan't\", 'were', 'he', 'm', 'it', 'yourself', \"doesn't\", 'any', 'its', 'then', 'been', \"didn't\", \"should've\", 'herself', 'have', 'so', 'again', 'should', 'against', \"hasn't\", 'shan', 'to', 'them', 'd', 'for', 'an', 'between', 'had', 've', 'most', \"wasn't\", 'further', 'you', 'him', 'her', 'but', 'there', 'no', 'my', \"you've\", 'me', 'she', \"aren't\", 'mightn', 'shouldn', 'ourselves', 'up', 'isn', 'when', 'that', \"shouldn't\", 'or', 'through'}\n",
            "{\"'\", '~', ',', ':', '*', '}', '@', '?', ')', '&', '>', '$', '`', '\"', '%', '|', '+', ';', '<', ']', '!', '.', '/', '_', '(', '=', '[', '#', '{', '^', '\\\\', '-'}\n",
            "['hello']\n"
          ]
        }
      ]
    },
    {
      "cell_type": "code",
      "source": [],
      "metadata": {
        "id": "j-S2JFBcJjag"
      },
      "execution_count": 44,
      "outputs": []
    }
  ]
}